{
 "cells": [
  {
   "cell_type": "markdown",
   "id": "430789a0",
   "metadata": {},
   "source": [
    "Hangman Game: Implement the classic hangman word guessing game. The computer selects a word, \n",
    "and the player has to guess it one letter at a time while avoiding too many incorrect guesses."
   ]
  },
  {
   "cell_type": "code",
   "execution_count": 1,
   "id": "c15fc5b4",
   "metadata": {},
   "outputs": [
    {
     "name": "stdout",
     "output_type": "stream",
     "text": [
      "Welcome to Hangman!\n",
      "_ _ _ _ _ _\n",
      "Guess a letter: p\n",
      "p _ _ _ _ _\n",
      "Guess a letter: y\n",
      "p y _ _ _ _\n",
      "Guess a letter: t\n",
      "p y t _ _ _\n",
      "Guess a letter: o\n",
      "p y t _ o _\n",
      "Guess a letter: n\n",
      "p y t _ o n\n",
      "Guess a letter: h\n",
      "p y t h o n\n",
      "Congratulations! You guessed the word: python\n"
     ]
    }
   ],
   "source": [
    "import random\n",
    "\n",
    "# List of words for the game\n",
    "word_list = [\"python\", \"hangman\", \"programming\", \"computer\", \"keyboard\"]\n",
    "\n",
    "# Function to choose a random word from the list\n",
    "def choose_word():\n",
    "    return random.choice(word_list)\n",
    "\n",
    "# Function to initialize the display word\n",
    "def initialize_display_word(word):\n",
    "    return [\"_\" for _ in word]\n",
    "\n",
    "# Function to display the current state of the word\n",
    "def display_word(word):\n",
    "    return \" \".join(word)\n",
    "\n",
    "# Function to update the display word with correctly guessed letters\n",
    "def update_display_word(word, display, letter):\n",
    "    for i, char in enumerate(word):\n",
    "        if char == letter:\n",
    "            display[i] = letter\n",
    "\n",
    "# Main Hangman game function\n",
    "def hangman():\n",
    "    secret_word = choose_word()\n",
    "    display_word_list = initialize_display_word(secret_word)\n",
    "    attempts = 6  # Number of incorrect attempts allowed\n",
    "\n",
    "    print(\"Welcome to Hangman!\")\n",
    "    print(display_word(display_word_list))\n",
    "\n",
    "    while attempts > 0:\n",
    "        guess = input(\"Guess a letter: \").lower()\n",
    "\n",
    "        if len(guess) != 1 or not guess.isalpha():\n",
    "            print(\"Please enter a single letter.\")\n",
    "            continue\n",
    "\n",
    "        if guess in secret_word:\n",
    "            update_display_word(secret_word, display_word_list, guess)\n",
    "        else:\n",
    "            attempts -= 1\n",
    "            print(f\"Wrong guess! You have {attempts} attempts left.\")\n",
    "\n",
    "        print(display_word(display_word_list))\n",
    "\n",
    "        if \"_\" not in display_word_list:\n",
    "            print(\"Congratulations! You guessed the word:\", secret_word)\n",
    "            break\n",
    "\n",
    "    if \"_\" in display_word_list:\n",
    "        print(\"Sorry, you ran out of attempts. The word was:\", secret_word)\n",
    "\n",
    "if __name__ == \"__main__\":\n",
    "    hangman()\n"
   ]
  },
  {
   "cell_type": "code",
   "execution_count": null,
   "id": "cab23928",
   "metadata": {},
   "outputs": [],
   "source": []
  }
 ],
 "metadata": {
  "kernelspec": {
   "display_name": "Python 3 (ipykernel)",
   "language": "python",
   "name": "python3"
  },
  "language_info": {
   "codemirror_mode": {
    "name": "ipython",
    "version": 3
   },
   "file_extension": ".py",
   "mimetype": "text/x-python",
   "name": "python",
   "nbconvert_exporter": "python",
   "pygments_lexer": "ipython3",
   "version": "3.9.12"
  }
 },
 "nbformat": 4,
 "nbformat_minor": 5
}
