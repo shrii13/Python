{
 "cells": [
  {
   "cell_type": "code",
   "execution_count": 1,
   "id": "00e8f9e3",
   "metadata": {},
   "outputs": [
    {
     "name": "stdout",
     "output_type": "stream",
     "text": [
      "64\n"
     ]
    }
   ],
   "source": [
    "#give max pruduct of sub list of folllowing list\n",
    "l1=[[1,2,5],[8,4,2],[14,1,2]]\n",
    "#Solution\n",
    "import math\n",
    "product=[]\n",
    "for i in l1:\n",
    "    product.append(math.prod(i))\n",
    "print(max(product))"
   ]
  },
  {
   "cell_type": "code",
   "execution_count": 2,
   "id": "dc7de527",
   "metadata": {},
   "outputs": [
    {
     "data": {
      "text/plain": [
       "64"
      ]
     },
     "execution_count": 2,
     "metadata": {},
     "output_type": "execute_result"
    }
   ],
   "source": [
    "# alternative\n",
    "l=[]\n",
    "for i in l1:\n",
    "    k=1\n",
    "    for j in i:\n",
    "        k=k*j\n",
    "        l.append(k)\n",
    "max(l)\n",
    "        "
   ]
  },
  {
   "cell_type": "code",
   "execution_count": 3,
   "id": "cda223a5",
   "metadata": {},
   "outputs": [
    {
     "name": "stdout",
     "output_type": "stream",
     "text": [
      "6\n",
      "3\n",
      "4\n",
      "10\n",
      "5\n"
     ]
    },
    {
     "data": {
      "text/plain": [
       "5"
      ]
     },
     "execution_count": 3,
     "metadata": {},
     "output_type": "execute_result"
    }
   ],
   "source": [
    "#Give the sum of digits in a list\n",
    "list1=[15,12,31,55,5]\n",
    "#o/p:3,3,4,10,5\n",
    "for i in list1:\n",
    "    x=0\n",
    "    while(i>0):\n",
    "        x=x+(i%10)\n",
    "        i=i//10\n",
    "    print(x)\n",
    "    \n",
    "x   "
   ]
  },
  {
   "cell_type": "code",
   "execution_count": null,
   "id": "a5d63ac8",
   "metadata": {},
   "outputs": [],
   "source": []
  },
  {
   "cell_type": "code",
   "execution_count": null,
   "id": "ebfb7671",
   "metadata": {},
   "outputs": [],
   "source": []
  },
  {
   "cell_type": "code",
   "execution_count": null,
   "id": "096ea246",
   "metadata": {},
   "outputs": [],
   "source": []
  }
 ],
 "metadata": {
  "kernelspec": {
   "display_name": "Python 3 (ipykernel)",
   "language": "python",
   "name": "python3"
  },
  "language_info": {
   "codemirror_mode": {
    "name": "ipython",
    "version": 3
   },
   "file_extension": ".py",
   "mimetype": "text/x-python",
   "name": "python",
   "nbconvert_exporter": "python",
   "pygments_lexer": "ipython3",
   "version": "3.9.12"
  }
 },
 "nbformat": 4,
 "nbformat_minor": 5
}
