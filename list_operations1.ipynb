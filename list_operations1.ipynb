{
 "cells": [
  {
   "cell_type": "code",
   "execution_count": 4,
   "id": "00e8f9e3",
   "metadata": {},
   "outputs": [
    {
     "name": "stdout",
     "output_type": "stream",
     "text": [
      "64\n"
     ]
    }
   ],
   "source": [
    "#give max pruduct of sub list of folllowing list\n",
    "l1=[[1,2,5],[8,4,2],[14,1,2]]\n",
    "#Solution\n",
    "import math\n",
    "product=[]\n",
    "for i in l1:\n",
    "    product.append(math.prod(i))\n",
    "print(max(product))"
   ]
  },
  {
   "cell_type": "code",
   "execution_count": 6,
   "id": "dc7de527",
   "metadata": {},
   "outputs": [
    {
     "data": {
      "text/plain": [
       "64"
      ]
     },
     "execution_count": 6,
     "metadata": {},
     "output_type": "execute_result"
    }
   ],
   "source": [
    "# alternative\n",
    "l=[]\n",
    "for i in l1:\n",
    "    k=1\n",
    "    for j in i:\n",
    "        k=k*j\n",
    "        l.append(k)\n",
    "max(l)\n",
    "        "
   ]
  },
  {
   "cell_type": "code",
   "execution_count": null,
   "id": "cda223a5",
   "metadata": {},
   "outputs": [],
   "source": []
  }
 ],
 "metadata": {
  "kernelspec": {
   "display_name": "Python 3 (ipykernel)",
   "language": "python",
   "name": "python3"
  },
  "language_info": {
   "codemirror_mode": {
    "name": "ipython",
    "version": 3
   },
   "file_extension": ".py",
   "mimetype": "text/x-python",
   "name": "python",
   "nbconvert_exporter": "python",
   "pygments_lexer": "ipython3",
   "version": "3.9.12"
  }
 },
 "nbformat": 4,
 "nbformat_minor": 5
}
