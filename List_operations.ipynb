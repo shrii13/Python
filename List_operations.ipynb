{
 "cells": [
  {
   "cell_type": "code",
   "execution_count": 58,
   "id": "8d8026b7",
   "metadata": {},
   "outputs": [
    {
     "name": "stdout",
     "output_type": "stream",
     "text": [
      "Its not prime no\n"
     ]
    }
   ],
   "source": [
    "# Prime no \n",
    "def prime_no(num):\n",
    "    if(num>0):\n",
    "        \n",
    "        for i in range(2,num):\n",
    "            if(num%i==0):\n",
    "                print('Its not prime no')\n",
    "                break\n",
    "        else:\n",
    "            print('Its prime no')\n",
    "prime_no(15)\n"
   ]
  },
  {
   "cell_type": "code",
   "execution_count": 49,
   "id": "3bc20e71",
   "metadata": {},
   "outputs": [
    {
     "ename": "SyntaxError",
     "evalue": "invalid syntax (2221764862.py, line 3)",
     "output_type": "error",
     "traceback": [
      "\u001b[1;36m  Input \u001b[1;32mIn [49]\u001b[1;36m\u001b[0m\n\u001b[1;33m    if(num>0)\u001b[0m\n\u001b[1;37m             ^\u001b[0m\n\u001b[1;31mSyntaxError\u001b[0m\u001b[1;31m:\u001b[0m invalid syntax\n"
     ]
    }
   ],
   "source": [
    "#First 10 prime nos\n",
    "def prime_no():\n",
    "    \n",
    "    counter=0\n",
    "    num=9\n",
    "    primeno_list=[]\n",
    "    for i in range(2,num):\n",
    "        \n",
    "        if(num%i==0):\n",
    "            print('i')\n",
    "            unm=num+1\n",
    "        if(counter==10):\n",
    "            break\n",
    "    else:\n",
    "        print('Its prime no')\n",
    "        primeno_list.append(num)\n",
    "        unm=num+1\n",
    "        counter=counter+1\n",
    "        \n",
    "    print(primeno_list)\n"
   ]
  },
  {
   "cell_type": "code",
   "execution_count": 47,
   "id": "5c863393",
   "metadata": {},
   "outputs": [],
   "source": [
    "def first_10_prime():\n",
    "    num=3\n",
    "    l=[]\n",
    "    counter=0\n",
    "    while(counter==10):\n",
    "        while(True):\n",
    "            \n",
    "            for i in range(2,num):\n",
    "                if(num%i==0):\n",
    "                    num=num+1\n",
    "                    \n",
    "            else:\n",
    "                counter=counter+1\n",
    "                print(num)\n",
    "                num=num+1\n",
    "                l.append(num)\n",
    "        print(l)\n",
    "            \n",
    "x=first_10_prime()   \n",
    "x       "
   ]
  },
  {
   "cell_type": "code",
   "execution_count": 56,
   "id": "bd4efb81",
   "metadata": {},
   "outputs": [],
   "source": [
    "count=0\n",
    "num=3\n",
    "while(count==10):\n",
    "    prime_no(num)\n",
    "    \n",
    "    num=num+1\n",
    "    "
   ]
  },
  {
   "cell_type": "code",
   "execution_count": 48,
   "id": "b6c9cb0a",
   "metadata": {},
   "outputs": [
    {
     "name": "stdout",
     "output_type": "stream",
     "text": [
      "2 3 5 7 11 13 17 19 23 29 "
     ]
    }
   ],
   "source": [
    "def is_prime(n):\n",
    "    if n <= 1:\n",
    "        return False\n",
    "    if n <= 3:\n",
    "        return True\n",
    "    if n % 2 == 0 or n % 3 == 0:\n",
    "        return False\n",
    "    i = 5\n",
    "    while i * i <= n:\n",
    "        if n % i == 0 or n % (i + 2) == 0:\n",
    "            return False\n",
    "        i += 6\n",
    "    return True\n",
    "\n",
    "count = 0\n",
    "num = 2\n",
    "while count < 10:\n",
    "    if is_prime(num):\n",
    "        print(num, end=' ')\n",
    "        count += 1\n",
    "    num += 1\n"
   ]
  },
  {
   "cell_type": "code",
   "execution_count": 8,
   "id": "fd94c208",
   "metadata": {},
   "outputs": [],
   "source": [
    "def prime_no(n):\n",
    "    if n<=1:\n",
    "        return False\n",
    "    elif n==2:\n",
    "        return True\n",
    "        \n",
    "    else:\n",
    "        for i in range(2,int(n**0.5)+1):\n",
    "            if n%i==0:\n",
    "                return False\n",
    "            else:\n",
    "                return True"
   ]
  },
  {
   "cell_type": "code",
   "execution_count": 12,
   "id": "1896ef2f",
   "metadata": {},
   "outputs": [
    {
     "data": {
      "text/plain": [
       "False"
      ]
     },
     "execution_count": 12,
     "metadata": {},
     "output_type": "execute_result"
    }
   ],
   "source": []
  },
  {
   "cell_type": "code",
   "execution_count": null,
   "id": "bbf0bdcf",
   "metadata": {},
   "outputs": [],
   "source": []
  }
 ],
 "metadata": {
  "kernelspec": {
   "display_name": "Python 3 (ipykernel)",
   "language": "python",
   "name": "python3"
  },
  "language_info": {
   "codemirror_mode": {
    "name": "ipython",
    "version": 3
   },
   "file_extension": ".py",
   "mimetype": "text/x-python",
   "name": "python",
   "nbconvert_exporter": "python",
   "pygments_lexer": "ipython3",
   "version": "3.9.12"
  }
 },
 "nbformat": 4,
 "nbformat_minor": 5
}
