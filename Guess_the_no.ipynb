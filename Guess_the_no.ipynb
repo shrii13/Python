{
 "cells": [
  {
   "cell_type": "markdown",
   "id": "a568dac7",
   "metadata": {},
   "source": [
    "Guess the Number: Develop a number guessing game where the computer generates a random number, and the player has to guess it within a certain number of attempts.\n",
    "\n"
   ]
  },
  {
   "cell_type": "code",
   "execution_count": 1,
   "id": "b5532c84",
   "metadata": {},
   "outputs": [],
   "source": [
    "import numpy as np\n"
   ]
  },
  {
   "cell_type": "code",
   "execution_count": 15,
   "id": "4aefce64",
   "metadata": {},
   "outputs": [],
   "source": [
    "def guess_the_no(no_of_chances):\n",
    "    num=np.random.randint(1,10)\n",
    "    for i in  range(no_of_chances):\n",
    "        x=int(input('enter your no: '))\n",
    "        if(x==num):\n",
    "            print('you win')\n",
    "            break\n",
    "    else:\n",
    "        print('you lose')"
   ]
  },
  {
   "cell_type": "code",
   "execution_count": 16,
   "id": "f3e21904",
   "metadata": {},
   "outputs": [
    {
     "name": "stdout",
     "output_type": "stream",
     "text": [
      "enter your no: 3\n",
      "enter your no: 3\n",
      "enter your no: 3\n",
      "you lose\n"
     ]
    }
   ],
   "source": [
    "guess_the_no(3)"
   ]
  },
  {
   "cell_type": "code",
   "execution_count": 4,
   "id": "dd5e8b21",
   "metadata": {},
   "outputs": [
    {
     "data": {
      "text/plain": [
       "7"
      ]
     },
     "execution_count": 4,
     "metadata": {},
     "output_type": "execute_result"
    }
   ],
   "source": []
  }
 ],
 "metadata": {
  "kernelspec": {
   "display_name": "Python 3 (ipykernel)",
   "language": "python",
   "name": "python3"
  },
  "language_info": {
   "codemirror_mode": {
    "name": "ipython",
    "version": 3
   },
   "file_extension": ".py",
   "mimetype": "text/x-python",
   "name": "python",
   "nbconvert_exporter": "python",
   "pygments_lexer": "ipython3",
   "version": "3.9.12"
  }
 },
 "nbformat": 4,
 "nbformat_minor": 5
}
