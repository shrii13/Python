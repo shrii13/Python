{
 "cells": [
  {
   "cell_type": "markdown",
   "id": "eab17b89",
   "metadata": {},
   "source": [
    "# Checks if the no is prime or not"
   ]
  },
  {
   "cell_type": "code",
   "execution_count": 1,
   "id": "6a0dfce5",
   "metadata": {},
   "outputs": [],
   "source": [
    "def is_prime(n):\n",
    "  \"\"\"Returns True if n is a prime number, False otherwise.\"\"\"\n",
    "  if n <= 1:\n",
    "    return False\n",
    "  for i in range(2, int(n**0.5) + 1):\n",
    "    if n % i == 0:\n",
    "      return False\n",
    "  return True"
   ]
  },
  {
   "cell_type": "markdown",
   "id": "d838df36",
   "metadata": {},
   "source": [
    "# First n prime no"
   ]
  },
  {
   "cell_type": "code",
   "execution_count": 11,
   "id": "78fbc253",
   "metadata": {},
   "outputs": [],
   "source": [
    "def prime_Nos(num):\n",
    "    count=0\n",
    "    prime=[]\n",
    "    variable=3\n",
    "    while count<num:\n",
    "        if(is_prime(variable)):\n",
    "            count=count+1\n",
    "            prime.append(variable)\n",
    "            variable+=2\n",
    "            \n",
    "        else:\n",
    "            variable+=1\n",
    "    return prime"
   ]
  },
  {
   "cell_type": "code",
   "execution_count": 12,
   "id": "d1574dd2",
   "metadata": {},
   "outputs": [
    {
     "data": {
      "text/plain": [
       "[3, 5, 7, 11, 13, 17, 19, 23, 29, 31]"
      ]
     },
     "execution_count": 12,
     "metadata": {},
     "output_type": "execute_result"
    }
   ],
   "source": [
    "prime_Nos(10)"
   ]
  },
  {
   "cell_type": "markdown",
   "id": "dd0a66fb",
   "metadata": {},
   "source": [
    "# Prime numbers in specific range"
   ]
  },
  {
   "cell_type": "code",
   "execution_count": 14,
   "id": "e637a50f",
   "metadata": {},
   "outputs": [],
   "source": [
    "def prime_No_in_range(num1,num2):\n",
    "    l=[]\n",
    "    for i in range(num1,num2):\n",
    "        if(is_prime(i)):\n",
    "            l.append(i)\n",
    "    return l"
   ]
  },
  {
   "cell_type": "code",
   "execution_count": 16,
   "id": "a3801dbc",
   "metadata": {},
   "outputs": [
    {
     "data": {
      "text/plain": [
       "[101,\n",
       " 103,\n",
       " 107,\n",
       " 109,\n",
       " 113,\n",
       " 127,\n",
       " 131,\n",
       " 137,\n",
       " 139,\n",
       " 149,\n",
       " 151,\n",
       " 157,\n",
       " 163,\n",
       " 167,\n",
       " 173,\n",
       " 179,\n",
       " 181,\n",
       " 191,\n",
       " 193,\n",
       " 197,\n",
       " 199]"
      ]
     },
     "execution_count": 16,
     "metadata": {},
     "output_type": "execute_result"
    }
   ],
   "source": [
    "prime_No_in_range(100,200)"
   ]
  }
 ],
 "metadata": {
  "kernelspec": {
   "display_name": "Python 3 (ipykernel)",
   "language": "python",
   "name": "python3"
  },
  "language_info": {
   "codemirror_mode": {
    "name": "ipython",
    "version": 3
   },
   "file_extension": ".py",
   "mimetype": "text/x-python",
   "name": "python",
   "nbconvert_exporter": "python",
   "pygments_lexer": "ipython3",
   "version": "3.9.12"
  }
 },
 "nbformat": 4,
 "nbformat_minor": 5
}
